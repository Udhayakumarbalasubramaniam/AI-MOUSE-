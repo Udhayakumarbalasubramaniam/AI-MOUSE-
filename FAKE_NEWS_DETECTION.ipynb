{
  "nbformat": 4,
  "nbformat_minor": 0,
  "metadata": {
    "colab": {
      "provenance": [],
      "include_colab_link": true
    },
    "kernelspec": {
      "name": "python3",
      "display_name": "Python 3"
    },
    "language_info": {
      "name": "python"
    }
  },
  "cells": [
    {
      "cell_type": "markdown",
      "metadata": {
        "id": "view-in-github",
        "colab_type": "text"
      },
      "source": [
        "<a href=\"https://colab.research.google.com/github/Udhayakumarbalasubramaniam/AI-MOUSE-/blob/main/FAKE_NEWS_DETECTION.ipynb\" target=\"_parent\"><img src=\"https://colab.research.google.com/assets/colab-badge.svg\" alt=\"Open In Colab\"/></a>"
      ]
    },
    {
      "cell_type": "code",
      "source": [
        "import pandas as pd\n",
        "import numpy as np\n",
        "import seaborn as sns\n",
        "import matplotlib.pyplot as plt\n",
        "from sklearn.model_selection import train_test_split\n",
        "from sklearn.metrics import accuracy_score, classification_report\n",
        "from sklearn.feature_extraction.text import TfidfVectorizer\n",
        "from sklearn.linear_model import LogisticRegression\n",
        "from sklearn.tree import DecisionTreeClassifier\n",
        "import re\n",
        "import string\n"
      ],
      "metadata": {
        "id": "Ax3J13RhIYCp"
      },
      "execution_count": null,
      "outputs": []
    },
    {
      "cell_type": "code",
      "source": [
        "# Read data\n",
        "data_fake = pd.read_csv('/content/Fake.csv')\n",
        "data_true = pd.read_csv('/content/True.csv')\n"
      ],
      "metadata": {
        "id": "HKaX0XTAIbKe"
      },
      "execution_count": null,
      "outputs": []
    },
    {
      "cell_type": "code",
      "source": [
        "data_fake[\"class\"] = 0\n",
        "data_true['class'] = 1"
      ],
      "metadata": {
        "id": "NGEV8VwmIfC6"
      },
      "execution_count": null,
      "outputs": []
    },
    {
      "cell_type": "code",
      "source": [
        "# Drop rows for manual testing\n",
        "data_fake_manual_testing = data_fake.tail(10)\n",
        "for i in range(23480, 23470, -1):\n",
        "    data_fake.drop([i], axis=0, inplace=True)\n",
        "\n",
        "data_true_manual_testing = data_true.tail(10)\n",
        "for i in range(21416, 21406, -1):\n",
        "    data_true.drop([i], axis=0, inplace=True)"
      ],
      "metadata": {
        "id": "p-If81tRIh63"
      },
      "execution_count": null,
      "outputs": []
    },
    {
      "cell_type": "code",
      "source": [
        "data_fake_manual_testing['class'] = 0\n",
        "data_true_manual_testing['class'] = 1"
      ],
      "metadata": {
        "colab": {
          "base_uri": "https://localhost:8080/"
        },
        "id": "4-IRMX-kIl1Q",
        "outputId": "21fe2127-ca3a-4174-9ab7-cfd1a8fc6031"
      },
      "execution_count": null,
      "outputs": [
        {
          "output_type": "stream",
          "name": "stderr",
          "text": [
            "<ipython-input-143-90008d39c97b>:1: SettingWithCopyWarning: \n",
            "A value is trying to be set on a copy of a slice from a DataFrame.\n",
            "Try using .loc[row_indexer,col_indexer] = value instead\n",
            "\n",
            "See the caveats in the documentation: https://pandas.pydata.org/pandas-docs/stable/user_guide/indexing.html#returning-a-view-versus-a-copy\n",
            "  data_fake_manual_testing['class'] = 0\n",
            "<ipython-input-143-90008d39c97b>:2: SettingWithCopyWarning: \n",
            "A value is trying to be set on a copy of a slice from a DataFrame.\n",
            "Try using .loc[row_indexer,col_indexer] = value instead\n",
            "\n",
            "See the caveats in the documentation: https://pandas.pydata.org/pandas-docs/stable/user_guide/indexing.html#returning-a-view-versus-a-copy\n",
            "  data_true_manual_testing['class'] = 1\n"
          ]
        }
      ]
    },
    {
      "cell_type": "code",
      "source": [
        "# Concatenate data\n",
        "data_merge = pd.concat([data_fake, data_true], axis=0)\n",
        "\n",
        "data = data_merge.drop(['title', 'subject', 'date'], axis=1)"
      ],
      "metadata": {
        "id": "cmRyQHIvIoKc"
      },
      "execution_count": null,
      "outputs": []
    },
    {
      "cell_type": "code",
      "source": [
        "def wordopt(text):\n",
        "    text = text.lower()\n",
        "    text = re.sub(r'\\[.*?\\]', '', text)\n",
        "    text = re.sub(r'\\W', '', text)\n",
        "    text = re.sub(r'https?://\\S+/www\\.\\S+', '', text)\n",
        "    text = re.sub(r'<.*?>+', '', text)\n",
        "    text = re.sub(r'[%s]' % re.escape(string.punctuation), '', text)\n",
        "    text = re.sub(r'\\n', '', text)\n",
        "    text = re.sub(r'\\w*\\d\\w*', '', text)\n",
        "    return text"
      ],
      "metadata": {
        "id": "c_gziTi_Iwzu"
      },
      "execution_count": null,
      "outputs": []
    },
    {
      "cell_type": "code",
      "source": [
        "data['text'] = data['text'].apply(wordopt)"
      ],
      "metadata": {
        "id": "KkOMkcdZI1IF"
      },
      "execution_count": null,
      "outputs": []
    },
    {
      "cell_type": "code",
      "source": [
        "x = data['text']\n",
        "y = data['class']"
      ],
      "metadata": {
        "id": "OtdvIhk5I4MX"
      },
      "execution_count": null,
      "outputs": []
    },
    {
      "cell_type": "code",
      "source": [
        "# Split data\n",
        "x_train, x_test, y_train, y_test = train_test_split(x, y, test_size=0.50)"
      ],
      "metadata": {
        "id": "mDQYLs9-I8Ww"
      },
      "execution_count": null,
      "outputs": []
    },
    {
      "cell_type": "code",
      "source": [
        "# Vectorize the training and testing data\n",
        "vectorization = TfidfVectorizer()\n",
        "xv_train = vectorization.fit_transform(x_train)\n",
        "xv_test = vectorization.transform(x_test)"
      ],
      "metadata": {
        "id": "vopPR0j5JBWO"
      },
      "execution_count": null,
      "outputs": []
    },
    {
      "cell_type": "code",
      "source": [
        "# Logistic Regression model\n",
        "LR = LogisticRegression()\n",
        "LR.fit(xv_train, y_train)\n",
        "pred_lr = LR.predict(xv_test)"
      ],
      "metadata": {
        "id": "_FOcCOI_JEOR"
      },
      "execution_count": null,
      "outputs": []
    },
    {
      "cell_type": "code",
      "source": [
        "# Evaluate Logistic Regression model\n",
        "print(\"Logistic Regression Model:\")\n",
        "print(\"Accuracy:\", LR.score(xv_test, y_test))\n",
        "print(classification_report(y_test, pred_lr))"
      ],
      "metadata": {
        "colab": {
          "base_uri": "https://localhost:8080/"
        },
        "id": "W9wMXlQ3JI43",
        "outputId": "7f9421f9-7725-4b4d-ec05-ba26247969a8"
      },
      "execution_count": null,
      "outputs": [
        {
          "output_type": "stream",
          "name": "stdout",
          "text": [
            "Logistic Regression Model:\n",
            "Accuracy: 0.5258255715495342\n",
            "              precision    recall  f1-score   support\n",
            "\n",
            "           0       0.52      1.00      0.69     11737\n",
            "           1       1.00      0.01      0.01     10702\n",
            "\n",
            "    accuracy                           0.53     22439\n",
            "   macro avg       0.76      0.50      0.35     22439\n",
            "weighted avg       0.75      0.53      0.37     22439\n",
            "\n"
          ]
        }
      ]
    },
    {
      "cell_type": "code",
      "source": [
        "DT = DecisionTreeClassifier()\n",
        "DT.fit(xv_train, y_train)\n",
        "pred_dt = DT.predict(xv_test)"
      ],
      "metadata": {
        "id": "LKCthe9ZJONU"
      },
      "execution_count": null,
      "outputs": []
    },
    {
      "cell_type": "code",
      "source": [
        "print(\"\\nDecision Tree Model:\")\n",
        "print(\"Accuracy:\", DT.score(xv_test, y_test))\n",
        "print(classification_report(y_test, pred_dt))"
      ],
      "metadata": {
        "colab": {
          "base_uri": "https://localhost:8080/"
        },
        "id": "7ZVVe77-JRk7",
        "outputId": "ef3b0aea-6f99-4bf0-ff96-14f3d911769b"
      },
      "execution_count": null,
      "outputs": [
        {
          "output_type": "stream",
          "name": "stdout",
          "text": [
            "\n",
            "Decision Tree Model:\n",
            "Accuracy: 0.5258255715495342\n",
            "              precision    recall  f1-score   support\n",
            "\n",
            "           0       0.52      1.00      0.69     11737\n",
            "           1       1.00      0.01      0.01     10702\n",
            "\n",
            "    accuracy                           0.53     22439\n",
            "   macro avg       0.76      0.50      0.35     22439\n",
            "weighted avg       0.75      0.53      0.37     22439\n",
            "\n"
          ]
        }
      ]
    },
    {
      "cell_type": "code",
      "source": [
        "# Manual testing function\n",
        "def output_label(n):\n",
        "    if n == 0:\n",
        "        return \"aFake News\"\n",
        "    elif n == 1:\n",
        "        return \"Not A Fake News\"\n"
      ],
      "metadata": {
        "id": "JGc6YxyxJUpt"
      },
      "execution_count": null,
      "outputs": []
    },
    {
      "cell_type": "code",
      "source": [
        "def manual_testing(news):\n",
        "    testing_news = {\"text\": [news]}\n",
        "    new_def_test = pd.DataFrame(testing_news)\n",
        "    new_def_test[\"text\"] = new_def_test[\"text\"].apply(wordopt)\n",
        "\n",
        "    new_x_test = new_def_test[\"text\"]\n",
        "    new_xv_test = vectorization.transform(new_x_test)\n",
        "\n",
        "    # Predictions\n",
        "    pred_LR = LR.predict(new_xv_test)\n",
        "    pred_DT = DT.predict(new_xv_test)\n",
        "\n",
        "    # Output results\n",
        "    print(\"\\n\\nLR Prediction: {}\\nDT Prediction: {}\".format(output_label(pred_LR[0]), output_label(pred_DT[0])))"
      ],
      "metadata": {
        "id": "17RVvwh2JYwr"
      },
      "execution_count": null,
      "outputs": []
    },
    {
      "cell_type": "code",
      "source": [
        "# Manual testing input\n",
        "news_input =\"ljuyljhyxkuhgdx \"\n",
        "manual_testing(news_input)"
      ],
      "metadata": {
        "colab": {
          "base_uri": "https://localhost:8080/"
        },
        "id": "UTVtYwbGJgGZ",
        "outputId": "d71ee0eb-4cb0-4c5f-eaa4-54f2daeab719"
      },
      "execution_count": null,
      "outputs": [
        {
          "output_type": "stream",
          "name": "stdout",
          "text": [
            "\n",
            "\n",
            "LR Prediction: aFake News\n",
            "DT Prediction: aFake News\n"
          ]
        }
      ]
    },
    {
      "cell_type": "code",
      "source": [],
      "metadata": {
        "id": "Y09qIjrvNF6Y"
      },
      "execution_count": null,
      "outputs": []
    }
  ]
}